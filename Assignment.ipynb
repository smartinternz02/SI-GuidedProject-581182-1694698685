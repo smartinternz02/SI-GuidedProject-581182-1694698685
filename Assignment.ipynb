{
 "cells": [
  {
   "cell_type": "code",
   "execution_count": 5,
   "id": "860aeaa6",
   "metadata": {},
   "outputs": [],
   "source": [
    "import numpy as npp"
   ]
  },
  {
   "cell_type": "code",
   "execution_count": 8,
   "id": "f4f297dc",
   "metadata": {},
   "outputs": [
    {
     "data": {
      "text/plain": [
       "array([0., 0., 0., 0., 0., 0., 0., 0., 0., 0.])"
      ]
     },
     "execution_count": 8,
     "metadata": {},
     "output_type": "execute_result"
    }
   ],
   "source": [
    "z1=npp.zeros(10)\n",
    "z1"
   ]
  },
  {
   "cell_type": "code",
   "execution_count": 9,
   "id": "7eb0c2fc",
   "metadata": {},
   "outputs": [
    {
     "data": {
      "text/plain": [
       "array([5., 5., 5., 5., 5., 5., 5., 5., 5., 5.])"
      ]
     },
     "execution_count": 9,
     "metadata": {},
     "output_type": "execute_result"
    }
   ],
   "source": [
    "z3=npp.full(10,5.0)\n",
    "z3"
   ]
  },
  {
   "cell_type": "code",
   "execution_count": 10,
   "id": "5816a2b3",
   "metadata": {},
   "outputs": [
    {
     "data": {
      "text/plain": [
       "array([1., 1., 1., 1., 1., 1., 1., 1., 1., 1.])"
      ]
     },
     "execution_count": 10,
     "metadata": {},
     "output_type": "execute_result"
    }
   ],
   "source": [
    "z=npp.ones(10)\n",
    "z"
   ]
  },
  {
   "cell_type": "code",
   "execution_count": 11,
   "id": "3ec76355",
   "metadata": {},
   "outputs": [
    {
     "data": {
      "text/plain": [
       "array([10, 11, 12, 13, 14, 15, 16, 17, 18, 19, 20, 21, 22, 23, 24, 25, 26,\n",
       "       27, 28, 29, 30, 31, 32, 33, 34, 35, 36, 37, 38, 39, 40, 41, 42, 43,\n",
       "       44, 45, 46, 47, 48, 49, 50])"
      ]
     },
     "execution_count": 11,
     "metadata": {},
     "output_type": "execute_result"
    }
   ],
   "source": [
    "a=npp.arange(10,51)\n",
    "a"
   ]
  },
  {
   "cell_type": "code",
   "execution_count": 14,
   "id": "9573861f",
   "metadata": {},
   "outputs": [
    {
     "name": "stdout",
     "output_type": "stream",
     "text": [
      "[10 12 14 16 18 20 22 24 26 28 30 32 34 36 38 40 42 44 46 48 50]\n"
     ]
    }
   ],
   "source": [
    "import numpy as np\n",
    "\n",
    "el = []\n",
    "a = np.arange(10, 51, 2)\n",
    "\n",
    "for i in a:\n",
    "    if i % 2 == 0:\n",
    "        el.append(i)\n",
    "\n",
    "el_arr = np.array(el)\n",
    "print(el_arr)\n"
   ]
  },
  {
   "cell_type": "code",
   "execution_count": 17,
   "id": "7e0bfa11",
   "metadata": {},
   "outputs": [
    {
     "name": "stdout",
     "output_type": "stream",
     "text": [
      "[[0 1 2]\n",
      " [3 4 5]\n",
      " [6 7 8]]\n"
     ]
    }
   ],
   "source": [
    "import numpy as np\n",
    "\n",
    "a1 = np.array([[0, 1, 2], [3, 4, 5], [6, 7, 8]])\n",
    "print(a1)\n"
   ]
  },
  {
   "cell_type": "code",
   "execution_count": 18,
   "id": "9a4876c5",
   "metadata": {},
   "outputs": [
    {
     "name": "stdout",
     "output_type": "stream",
     "text": [
      "[[1. 0. 0.]\n",
      " [0. 1. 0.]\n",
      " [0. 0. 1.]]\n"
     ]
    }
   ],
   "source": [
    "import numpy as np\n",
    "a2=np.eye(3)\n",
    "print(a2)"
   ]
  },
  {
   "cell_type": "code",
   "execution_count": 19,
   "id": "cac14568",
   "metadata": {},
   "outputs": [
    {
     "name": "stdout",
     "output_type": "stream",
     "text": [
      "0.9059614742145671\n"
     ]
    }
   ],
   "source": [
    "import numpy as np\n",
    "ran_num=np.random.rand()\n",
    "print(ran_num)"
   ]
  },
  {
   "cell_type": "code",
   "execution_count": 20,
   "id": "c8d214ff",
   "metadata": {},
   "outputs": [
    {
     "name": "stdout",
     "output_type": "stream",
     "text": [
      "[0.11303494 0.21083166 0.85894536 0.76094289 0.62287601 0.54593823\n",
      " 0.08443257 0.52585116 0.16559961 0.20220198 0.75500069 0.83948053\n",
      " 0.05018986 0.88587743 0.21239124 0.69429953 0.22225847 0.05285568\n",
      " 0.91948957 0.02814277 0.11511725 0.33605106 0.67200187 0.44777894\n",
      " 0.30806331]\n"
     ]
    }
   ],
   "source": [
    "import numpy as np\n",
    "a=np.random.random(25)\n",
    "print(a)"
   ]
  },
  {
   "cell_type": "code",
   "execution_count": 22,
   "id": "8cad59e8",
   "metadata": {},
   "outputs": [
    {
     "name": "stdout",
     "output_type": "stream",
     "text": [
      "[0.01 0.02 0.03 0.04 0.05 0.06 0.07 0.08 0.09 0.1  0.11 0.12 0.13 0.14\n",
      " 0.15 0.16 0.17 0.18 0.19 0.2  0.21 0.22 0.23 0.24 0.25 0.26 0.27 0.28\n",
      " 0.29 0.3  0.31 0.32 0.33 0.34 0.35 0.36 0.37 0.38 0.39 0.4  0.41 0.42\n",
      " 0.43 0.44 0.45 0.46 0.47 0.48 0.49 0.5  0.51 0.52 0.53 0.54 0.55 0.56\n",
      " 0.57 0.58 0.59 0.6  0.61 0.62 0.63 0.64 0.65 0.66 0.67 0.68 0.69 0.7\n",
      " 0.71 0.72 0.73 0.74 0.75 0.76 0.77 0.78 0.79 0.8  0.81 0.82 0.83 0.84\n",
      " 0.85 0.86 0.87 0.88 0.89 0.9  0.91 0.92 0.93 0.94 0.95 0.96 0.97 0.98\n",
      " 0.99]\n"
     ]
    }
   ],
   "source": [
    "import numpy as np\n",
    "\n",
    "ar = np.arange(0.01, 1.0, 0.01)\n",
    "print(ar)\n"
   ]
  },
  {
   "cell_type": "code",
   "execution_count": 23,
   "id": "66a4bffd",
   "metadata": {},
   "outputs": [
    {
     "name": "stdout",
     "output_type": "stream",
     "text": [
      "[0.         0.05263158 0.10526316 0.15789474 0.21052632 0.26315789\n",
      " 0.31578947 0.36842105 0.42105263 0.47368421 0.52631579 0.57894737\n",
      " 0.63157895 0.68421053 0.73684211 0.78947368 0.84210526 0.89473684\n",
      " 0.94736842 1.        ]\n"
     ]
    }
   ],
   "source": [
    "import numpy as np\n",
    "\n",
    "la = np.linspace(0,1,20)\n",
    "print(la)\n"
   ]
  },
  {
   "cell_type": "code",
   "execution_count": 25,
   "id": "abe079b0",
   "metadata": {},
   "outputs": [
    {
     "name": "stdout",
     "output_type": "stream",
     "text": [
      "[[ 1  2  3  4  5]\n",
      " [ 6  7  8  9 10]\n",
      " [11 12 13 14 15]\n",
      " [16 17 18 19 20]\n",
      " [21 22 23 24 25]]\n"
     ]
    }
   ],
   "source": [
    "import numpy as np\n",
    "mat=np.arange(1,26).reshape(5,5)\n",
    "print(mat)"
   ]
  },
  {
   "cell_type": "code",
   "execution_count": 26,
   "id": "ebfb4b4c",
   "metadata": {},
   "outputs": [
    {
     "data": {
      "text/plain": [
       "array([[12, 13, 14, 15],\n",
       "       [17, 18, 19, 20],\n",
       "       [22, 23, 24, 25]])"
      ]
     },
     "execution_count": 26,
     "metadata": {},
     "output_type": "execute_result"
    }
   ],
   "source": [
    "mat[2:6,1:6]"
   ]
  },
  {
   "cell_type": "code",
   "execution_count": 27,
   "id": "879ec74d",
   "metadata": {},
   "outputs": [
    {
     "data": {
      "text/plain": [
       "array([[20],\n",
       "       [25]])"
      ]
     },
     "execution_count": 27,
     "metadata": {},
     "output_type": "execute_result"
    }
   ],
   "source": [
    "mat[3:6,4:6]"
   ]
  },
  {
   "cell_type": "code",
   "execution_count": 28,
   "id": "97844805",
   "metadata": {},
   "outputs": [
    {
     "data": {
      "text/plain": [
       "array([[ 2],\n",
       "       [ 7],\n",
       "       [12]])"
      ]
     },
     "execution_count": 28,
     "metadata": {},
     "output_type": "execute_result"
    }
   ],
   "source": [
    "mat[0:3,1:2]"
   ]
  },
  {
   "cell_type": "code",
   "execution_count": 29,
   "id": "248787ac",
   "metadata": {},
   "outputs": [
    {
     "data": {
      "text/plain": [
       "array([[21, 22, 23, 24, 25]])"
      ]
     },
     "execution_count": 29,
     "metadata": {},
     "output_type": "execute_result"
    }
   ],
   "source": [
    "mat[4:6,0:6]"
   ]
  },
  {
   "cell_type": "code",
   "execution_count": 30,
   "id": "0b40e294",
   "metadata": {},
   "outputs": [
    {
     "data": {
      "text/plain": [
       "array([[16, 17, 18, 19, 20],\n",
       "       [21, 22, 23, 24, 25]])"
      ]
     },
     "execution_count": 30,
     "metadata": {},
     "output_type": "execute_result"
    }
   ],
   "source": [
    "mat[3:6,0:6]"
   ]
  },
  {
   "cell_type": "code",
   "execution_count": 31,
   "id": "d071fb0b",
   "metadata": {},
   "outputs": [
    {
     "data": {
      "text/plain": [
       "325"
      ]
     },
     "execution_count": 31,
     "metadata": {},
     "output_type": "execute_result"
    }
   ],
   "source": [
    "sum1 = np.sum(mat)\n",
    "sum1"
   ]
  },
  {
   "cell_type": "code",
   "execution_count": 32,
   "id": "0aefa7a8",
   "metadata": {},
   "outputs": [
    {
     "data": {
      "text/plain": [
       "7.211102550927978"
      ]
     },
     "execution_count": 32,
     "metadata": {},
     "output_type": "execute_result"
    }
   ],
   "source": [
    "sd = np.std(mat)\n",
    "sd"
   ]
  },
  {
   "cell_type": "code",
   "execution_count": 33,
   "id": "1bee28fd",
   "metadata": {},
   "outputs": [
    {
     "data": {
      "text/plain": [
       "array([55, 60, 65, 70, 75])"
      ]
     },
     "execution_count": 33,
     "metadata": {},
     "output_type": "execute_result"
    }
   ],
   "source": [
    "col_sum=np.sum(mat,axis=0)\n",
    "col_sum"
   ]
  },
  {
   "cell_type": "code",
   "execution_count": null,
   "id": "df79e8f2",
   "metadata": {},
   "outputs": [],
   "source": []
  }
 ],
 "metadata": {
  "kernelspec": {
   "display_name": "Python 3 (ipykernel)",
   "language": "python",
   "name": "python3"
  },
  "language_info": {
   "codemirror_mode": {
    "name": "ipython",
    "version": 3
   },
   "file_extension": ".py",
   "mimetype": "text/x-python",
   "name": "python",
   "nbconvert_exporter": "python",
   "pygments_lexer": "ipython3",
   "version": "3.11.4"
  }
 },
 "nbformat": 4,
 "nbformat_minor": 5
}
